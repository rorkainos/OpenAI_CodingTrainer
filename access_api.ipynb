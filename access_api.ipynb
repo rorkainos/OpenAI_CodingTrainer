{
 "cells": [
  {
   "cell_type": "code",
   "execution_count": 182,
   "metadata": {},
   "outputs": [
    {
     "name": "stdout",
     "output_type": "stream",
     "text": [
      "openai is already installed (version 0.27.8).\n"
     ]
    }
   ],
   "source": [
    "\n",
    "import pkg_resources\n",
    "import subprocess\n",
    "import openai\n",
    "import re\n",
    "import json\n",
    "\n",
    "def install_if_needed(package):\n",
    "    try:\n",
    "        dist = pkg_resources.get_distribution(package)\n",
    "        print(f\"{package} is already installed (version {dist.version}).\")\n",
    "    except pkg_resources.DistributionNotFound:\n",
    "        print(f\"{package} is not installed. Installing...\")\n",
    "        subprocess.call(['pip3', 'install', package])\n",
    "        print(f\"{package} has been installed.\")\n",
    "        \n",
    "install_if_needed('openai')"
   ]
  },
  {
   "cell_type": "code",
   "execution_count": 183,
   "metadata": {},
   "outputs": [],
   "source": [
    "#https://learn.microsoft.com/en-us/azure/cognitive-services/openai/how-to/chatgpt?pivots=programming-language-chat-completions\n",
    "#https://www.youtube.com/watch?v=uCKH8bmPgFs&t=502s"
   ]
  },
  {
   "cell_type": "code",
   "execution_count": 184,
   "metadata": {},
   "outputs": [],
   "source": [
    "openai.api_type = \"azure\"\n",
    "openai.api_version = \"2023-05-15\" \n",
    "openai.api_base = \"https://gpt4resource.openai.azure.com/\" # Your Azure OpenAI resource's endpoint value.\n",
    "openai.api_key = \"618bf90290544e54b47bcfc2dba743da\""
   ]
  },
  {
   "cell_type": "code",
   "execution_count": 185,
   "metadata": {},
   "outputs": [],
   "source": [
    "language = 'Node.js'\n",
    "topic = 'web development'\n",
    "difficulty = 'intermediate'"
   ]
  },
  {
   "cell_type": "code",
   "execution_count": 253,
   "metadata": {},
   "outputs": [],
   "source": [
    "system_message = 'Assistant is an intelligent chatbot designed to help users create programming training materials'\n",
    "user_message = f\"\"\"Could you please provide me with incorrect code in {language}, followed by a corresponding unit test that will fail? \n",
    "                        Then provide corrected code that will pass the unit test. \n",
    "                        For each code snippet, provide an appropriate file name. \n",
    "                        The area of interest is {topic}. \n",
    "                        The difficulty should be {difficulty}.\"\"\""
   ]
  },
  {
   "cell_type": "code",
   "execution_count": 254,
   "metadata": {},
   "outputs": [
    {
     "name": "stdout",
     "output_type": "stream",
     "text": [
      "Could you please provide me with incorrect code in Node.js, followed by a corresponding unit test that will fail? \n",
      "                        Then provide corrected code that will pass the unit test. \n",
      "                        For each code snippet, provide an appropriate file name. \n",
      "                        The area of interest is web development. The difficulty should be intermediate.\n"
     ]
    }
   ],
   "source": [
    "print(user_message)"
   ]
  },
  {
   "cell_type": "code",
   "execution_count": 255,
   "metadata": {},
   "outputs": [],
   "source": [
    "response = openai.ChatCompletion.create(\n",
    "    #gpt-35-turbo max tokens = 4,096\n",
    "    engine=\"testdeploy\", # The deployment name you chose when you deployed the ChatGPT or GPT-4 model.\n",
    "    messages=[\n",
    "        {\"role\": \"system\", \"content\": system_message},\n",
    "        {\"role\": \"user\", \"content\": user_message}\n",
    "    ],\n",
    "    temperature = 0 # This is the degree of randomness of the model's output\n",
    ")"
   ]
  },
  {
   "cell_type": "code",
   "execution_count": 256,
   "metadata": {},
   "outputs": [
    {
     "name": "stdout",
     "output_type": "stream",
     "text": [
      "tokens:  {\n",
      "  \"completion_tokens\": 325,\n",
      "  \"prompt_tokens\": 91,\n",
      "  \"total_tokens\": 416\n",
      "}\n",
      "----------------------------------------------------------------------------------------------------\n",
      "----------------------------------------------------------------------------------------------------\n",
      "Sure, here's an example:\n",
      "\n",
      "**Incorrect code:**\n",
      "\n",
      "File name: `server.js`\n",
      "\n",
      "```javascript\n",
      "const http = require('http');\n",
      "\n",
      "const server = http.createServer((req, res) => {\n",
      "  res.statusCode = 200;\n",
      "  res.setHeader('Content-Type', 'text/plain');\n",
      "  res.write('Hello, World!');\n",
      "  res.end();\n",
      "});\n",
      "\n",
      "server.listen(3000, () => {\n",
      "  console.log('Server running on port 3000');\n",
      "});\n",
      "```\n",
      "\n",
      "**Unit test that will fail:**\n",
      "\n",
      "File name: `server.test.js`\n",
      "\n",
      "```javascript\n",
      "const assert = require('assert');\n",
      "const http = require('http');\n",
      "\n",
      "describe('Server', () => {\n",
      "  it('should return \"Hello, World!\"', (done) => {\n",
      "    http.get('http://localhost:3000', (res) => {\n",
      "      assert.equal(res.statusCode, 200);\n",
      "      assert.equal(res.headers['content-type'], 'text/plain');\n",
      "      res.on('data', (data) => {\n",
      "        assert.equal(data.toString(), 'Hello, Node!');\n",
      "      });\n",
      "      done();\n",
      "    });\n",
      "  });\n",
      "});\n",
      "```\n",
      "\n",
      "**Corrected code:**\n",
      "\n",
      "File name: `server.js`\n",
      "\n",
      "```javascript\n",
      "const http = require('http');\n",
      "\n",
      "const server = http.createServer((req, res) => {\n",
      "  res.statusCode = 200;\n",
      "  res.setHeader('Content-Type', 'text/plain');\n",
      "  res.write('Hello, Node!');\n",
      "  res.end();\n",
      "});\n",
      "\n",
      "server.listen(3000, () => {\n",
      "  console.log('Server running on port 3000');\n",
      "});\n",
      "```\n",
      "\n",
      "After making this correction, the unit test should pass.\n"
     ]
    }
   ],
   "source": [
    "# print(response)\n",
    "# print(50*'-')\n",
    "\n",
    "output = response['choices'][0]['message']['content']\n",
    "\n",
    "print('tokens: ', response['usage'])\n",
    "print(100*'-')\n",
    "print(100*'-')\n",
    "print(output)"
   ]
  },
  {
   "cell_type": "code",
   "execution_count": 257,
   "metadata": {},
   "outputs": [],
   "source": [
    "def extract_languages(text):\n",
    "    pattern = r\"```(.*)\\n\"\n",
    "    matches = re.findall(pattern, text)\n",
    "    languages = [match for match in matches if match != '']\n",
    "    return languages\n",
    "\n",
    "def extract_filenames(text):\n",
    "    pattern = r\"File name: `(.*)`\\n\"\n",
    "    matches = re.findall(pattern, text)\n",
    "    matches.pop()\n",
    "    matches.append('corrected-' + matches[0].split('.')[0] + '.' + matches[0].split('.')[1])\n",
    "    return matches\n",
    "\n",
    "def remove_before_second_newline(text):\n",
    "    lines = text.split('\\n')\n",
    "    new_text = '\\n'.join(lines[2:])\n",
    "    if new_text[0] == '\\n':\n",
    "        return new_text[1:]\n",
    "    else:\n",
    "        return new_text\n",
    "\n",
    "def extract_code(text):\n",
    "    pattern = r\"```([\\s\\S]*?)```\"\n",
    "    matches = re.findall(pattern, text)\n",
    "    code = []\n",
    "    for match in matches:\n",
    "        code.append(remove_before_second_newline(match))\n",
    "    return code"
   ]
  },
  {
   "cell_type": "code",
   "execution_count": 258,
   "metadata": {},
   "outputs": [],
   "source": [
    "languages = extract_languages(output)\n",
    "filenames = extract_filenames(output)\n",
    "code = extract_code(output)"
   ]
  },
  {
   "cell_type": "code",
   "execution_count": 259,
   "metadata": {},
   "outputs": [
    {
     "data": {
      "text/plain": [
       "['javascript', 'javascript', 'javascript']"
      ]
     },
     "execution_count": 259,
     "metadata": {},
     "output_type": "execute_result"
    }
   ],
   "source": [
    "languages"
   ]
  },
  {
   "cell_type": "code",
   "execution_count": 260,
   "metadata": {},
   "outputs": [
    {
     "data": {
      "text/plain": [
       "['server.js', 'server.test.js', 'corrected-server.js']"
      ]
     },
     "execution_count": 260,
     "metadata": {},
     "output_type": "execute_result"
    }
   ],
   "source": [
    "filenames"
   ]
  },
  {
   "cell_type": "code",
   "execution_count": 261,
   "metadata": {},
   "outputs": [
    {
     "data": {
      "text/plain": [
       "[\"const server = http.createServer((req, res) => {\\n  res.statusCode = 200;\\n  res.setHeader('Content-Type', 'text/plain');\\n  res.write('Hello, World!');\\n  res.end();\\n});\\n\\nserver.listen(3000, () => {\\n  console.log('Server running on port 3000');\\n});\\n\",\n",
       " 'const http = require(\\'http\\');\\n\\ndescribe(\\'Server\\', () => {\\n  it(\\'should return \"Hello, World!\"\\', (done) => {\\n    http.get(\\'http://localhost:3000\\', (res) => {\\n      assert.equal(res.statusCode, 200);\\n      assert.equal(res.headers[\\'content-type\\'], \\'text/plain\\');\\n      res.on(\\'data\\', (data) => {\\n        assert.equal(data.toString(), \\'Hello, Node!\\');\\n      });\\n      done();\\n    });\\n  });\\n});\\n',\n",
       " \"const server = http.createServer((req, res) => {\\n  res.statusCode = 200;\\n  res.setHeader('Content-Type', 'text/plain');\\n  res.write('Hello, Node!');\\n  res.end();\\n});\\n\\nserver.listen(3000, () => {\\n  console.log('Server running on port 3000');\\n});\\n\"]"
      ]
     },
     "execution_count": 261,
     "metadata": {},
     "output_type": "execute_result"
    }
   ],
   "source": [
    "code"
   ]
  },
  {
   "cell_type": "code",
   "execution_count": 262,
   "metadata": {},
   "outputs": [],
   "source": [
    "data = {\n",
    "    'labels': ['Incorrect code', 'Unit test', 'Corrected code'],\n",
    "    'languages': languages,\n",
    "    'filenames': filenames,\n",
    "    'code': code\n",
    "}\n",
    "\n",
    "json_filename = 'label_lang_file_code.json'\n",
    "with open(json_filename, 'w') as file:\n",
    "    json.dump(data, file)"
   ]
  },
  {
   "cell_type": "code",
   "execution_count": null,
   "metadata": {},
   "outputs": [],
   "source": []
  },
  {
   "cell_type": "code",
   "execution_count": 28,
   "metadata": {},
   "outputs": [],
   "source": [
    "#RUN CELL TO SAVE OUTPUT IN A TXT FILE\n",
    "import os\n",
    "\n",
    "folder_path = 'txt_outputs'\n",
    "text_files = [f for f in os.listdir(folder_path) if f.endswith('.txt')]\n",
    "txt_number_list = []\n",
    "for file_name in text_files:\n",
    "    txt_number = file_name[-5]\n",
    "    txt_number = int(txt_number)\n",
    "    txt_number_list.append(txt_number)\n",
    "if not txt_number_list: #check if list is empty, i.e. no txt files yet\n",
    "    new_txt_number = str(1)\n",
    "else:\n",
    "    new_txt_number = str(max(txt_number_list) + 1)\n",
    "text_file = open('txt_outputs/output' + '_' + new_txt_number + '.txt', 'w')\n",
    "text_file.write(system_message + '\\n')\n",
    "text_file.write(50*'-' + '\\n')\n",
    "text_file.write(user_message + '\\n')\n",
    "text_file.write(50*'-' + '\\n')\n",
    "text_file.write(output + '\\n')\n",
    "text_file.close()"
   ]
  }
 ],
 "metadata": {
  "kernelspec": {
   "display_name": "Python 3",
   "language": "python",
   "name": "python3"
  },
  "language_info": {
   "codemirror_mode": {
    "name": "ipython",
    "version": 3
   },
   "file_extension": ".py",
   "mimetype": "text/x-python",
   "name": "python",
   "nbconvert_exporter": "python",
   "pygments_lexer": "ipython3",
   "version": "3.10.5"
  },
  "orig_nbformat": 4
 },
 "nbformat": 4,
 "nbformat_minor": 2
}
