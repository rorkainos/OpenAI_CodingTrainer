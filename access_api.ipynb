{
 "cells": [
  {
   "cell_type": "code",
   "execution_count": 179,
   "metadata": {},
   "outputs": [
    {
     "name": "stdout",
     "output_type": "stream",
     "text": [
      "openai is already installed (version 0.27.8).\n"
     ]
    }
   ],
   "source": [
    "\n",
    "import pkg_resources\n",
    "import subprocess\n",
    "import re\n",
    "import json\n",
    "\n",
    "package = 'openai'\n",
    "try:\n",
    "    dist = pkg_resources.get_distribution(package)\n",
    "    print(f\"{package} is already installed (version {dist.version}).\")\n",
    "except pkg_resources.DistributionNotFound:\n",
    "    print(f\"{package} is not installed. Installing...\")\n",
    "    subprocess.call(['pip3', 'install', package])\n",
    "    print(f\"{package} has been installed.\")"
   ]
  },
  {
   "cell_type": "code",
   "execution_count": 2,
   "metadata": {},
   "outputs": [],
   "source": [
    "#https://learn.microsoft.com/en-us/azure/cognitive-services/openai/how-to/chatgpt?pivots=programming-language-chat-completions\n",
    "#https://www.youtube.com/watch?v=uCKH8bmPgFs&t=502s"
   ]
  },
  {
   "cell_type": "code",
   "execution_count": 2,
   "metadata": {},
   "outputs": [],
   "source": [
    "import openai\n",
    "openai.api_type = \"azure\"\n",
    "openai.api_version = \"2023-05-15\" \n",
    "openai.api_base = \"https://gpt4resource.openai.azure.com/\" # Your Azure OpenAI resource's endpoint value.\n",
    "openai.api_key = \"618bf90290544e54b47bcfc2dba743da\"\n",
    "\n",
    "system_message = 'Assistant is an intelligent chatbot designed to help users create programming training materials'\n",
    "user_message1 = 'Could you please provide me with incorrect code in Node.js, followed by a corresponding unit test that will fail due to the introduced bug? At the end provide the corrected code. Area of interest is web development.'\n",
    "response = openai.ChatCompletion.create(\n",
    "    #gpt-35-turbo max tokens = 4,096\n",
    "    engine=\"testdeploy\", # The deployment name you chose when you deployed the ChatGPT or GPT-4 model.\n",
    "    messages=[\n",
    "        {\"role\": \"system\", \"content\": system_message},\n",
    "        {\"role\": \"user\", \"content\": user_message1}\n",
    "    ],\n",
    "    temperature = 0 # This is the degree of randomness of the model's output\n",
    ")"
   ]
  },
  {
   "cell_type": "code",
   "execution_count": 51,
   "metadata": {},
   "outputs": [],
   "source": [
    "# print(response)\n",
    "# print(50*'-')\n",
    "\n",
    "output = response['choices'][0]['message']['content']\n",
    "\n",
    "print('output: ', output)\n",
    "print(50*'-')\n",
    "print('tokens: ', response['usage'])"
   ]
  },
  {
   "cell_type": "code",
   "execution_count": 160,
   "metadata": {},
   "outputs": [],
   "source": [
    "def extract_language(text):\n",
    "    pattern = r\"```(.*)\\n\"\n",
    "    matches = re.findall(pattern, text)\n",
    "    languages = [match for match in matches if match != '']\n",
    "    return languages\n",
    "\n",
    "def extract_filename(text):\n",
    "    pattern = r\"// (.*)\\n\"\n",
    "    matches = re.findall(pattern, text)\n",
    "    return matches\n",
    "\n",
    "def remove_before_second_newline(text):\n",
    "    lines = text.split('\\n')\n",
    "    new_text = '\\n'.join(lines[2:])\n",
    "    return new_text[1:]\n",
    "\n",
    "def extract_code(text):\n",
    "    pattern = r\"```([\\s\\S]*?)```\"\n",
    "    matches = re.findall(pattern, text)\n",
    "    code = []\n",
    "    for match in matches:\n",
    "        code.append(remove_before_second_newline(match))\n",
    "    return code"
   ]
  },
  {
   "cell_type": "code",
   "execution_count": 169,
   "metadata": {},
   "outputs": [],
   "source": [
    "languages = extract_language(output)\n",
    "filenames = extract_filename(output)\n",
    "code = extract_code(output)"
   ]
  },
  {
   "cell_type": "code",
   "execution_count": 170,
   "metadata": {},
   "outputs": [
    {
     "data": {
      "text/plain": [
       "['javascript', 'javascript', 'javascript']"
      ]
     },
     "execution_count": 170,
     "metadata": {},
     "output_type": "execute_result"
    }
   ],
   "source": [
    "languages"
   ]
  },
  {
   "cell_type": "code",
   "execution_count": 171,
   "metadata": {},
   "outputs": [
    {
     "data": {
      "text/plain": [
       "['server.js', 'server.test.js', 'server.js']"
      ]
     },
     "execution_count": 171,
     "metadata": {},
     "output_type": "execute_result"
    }
   ],
   "source": [
    "filenames"
   ]
  },
  {
   "cell_type": "code",
   "execution_count": 172,
   "metadata": {},
   "outputs": [
    {
     "data": {
      "text/plain": [
       "[\"const express = require('express');\\nconst app = express();\\n\\napp.get('/', (req, res) => {\\n  res.send('Hello World!');\\n});\\n\\napp.listen(3000, () => {\\n  console.log('Server started on port 3000');\\n});\\n\",\n",
       " \"const request = require('supertest');\\nconst app = require('./server');\\n\\ndescribe('GET /', () => {\\n  it('should return 200 OK', (done) => {\\n    request(app)\\n      .get('/')\\n      .expect(200, done);\\n  });\\n});\\n\\ndescribe('Server', () => {\\n  it('should start without errors', (done) => {\\n    const server = app.listen(3000, () => {\\n      server.close();\\n      done();\\n    });\\n  });\\n});\\n\",\n",
       " \"const express = require('express');\\nconst app = express();\\n\\napp.get('/', (req, res) => {\\n  res.send('Hello World!');\\n});\\n\\nconst server = app.listen(3000, () => {\\n  console.log('Server started on port 3000');\\n});\\n\\nserver.on('error', (err) => {\\n  console.error(`Server error: ${err}`);\\n});\\n\"]"
      ]
     },
     "execution_count": 172,
     "metadata": {},
     "output_type": "execute_result"
    }
   ],
   "source": [
    "code"
   ]
  },
  {
   "cell_type": "code",
   "execution_count": 177,
   "metadata": {},
   "outputs": [],
   "source": [
    "data = {\n",
    "    'labels': ['Incorrect code', 'Unit test', 'Corrected code'],\n",
    "    'languages': languages,\n",
    "    'filenames': filenames,\n",
    "    'code': code\n",
    "}\n",
    "\n",
    "json_filename = 'label_lang_file_code.json'\n",
    "with open(json_filename, 'w') as file:\n",
    "    json.dump(data, file)"
   ]
  },
  {
   "cell_type": "code",
   "execution_count": 28,
   "metadata": {},
   "outputs": [],
   "source": [
    "#RUN CELL TO SAVE OUTPUT IN A TXT FILE\n",
    "import os\n",
    "\n",
    "folder_path = 'txt_outputs'\n",
    "text_files = [f for f in os.listdir(folder_path) if f.endswith('.txt')]\n",
    "txt_number_list = []\n",
    "for file_name in text_files:\n",
    "    txt_number = file_name[-5]\n",
    "    txt_number = int(txt_number)\n",
    "    txt_number_list.append(txt_number)\n",
    "if not txt_number_list: #check if list is empty, i.e. no txt files yet\n",
    "    new_txt_number = str(1)\n",
    "else:\n",
    "    new_txt_number = str(max(txt_number_list) + 1)\n",
    "text_file = open('txt_outputs/output' + '_' + new_txt_number + '.txt', 'w')\n",
    "text_file.write(system_message + '\\n')\n",
    "text_file.write(50*'-' + '\\n')\n",
    "text_file.write(user_message1 + '\\n')\n",
    "text_file.write(50*'-' + '\\n')\n",
    "text_file.write(output + '\\n')\n",
    "text_file.close()"
   ]
  },
  {
   "cell_type": "code",
   "execution_count": null,
   "metadata": {},
   "outputs": [],
   "source": []
  }
 ],
 "metadata": {
  "kernelspec": {
   "display_name": "Python 3",
   "language": "python",
   "name": "python3"
  },
  "language_info": {
   "codemirror_mode": {
    "name": "ipython",
    "version": 3
   },
   "file_extension": ".py",
   "mimetype": "text/x-python",
   "name": "python",
   "nbconvert_exporter": "python",
   "pygments_lexer": "ipython3",
   "version": "3.10.5"
  },
  "orig_nbformat": 4
 },
 "nbformat": 4,
 "nbformat_minor": 2
}
