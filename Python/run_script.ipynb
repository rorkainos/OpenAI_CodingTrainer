{
 "cells": [
  {
   "cell_type": "code",
   "execution_count": 1,
   "metadata": {},
   "outputs": [
    {
     "name": "stdout",
     "output_type": "stream",
     "text": [
      "LANGUAGES (3): ['javascript', 'javascript', 'javascript']\n",
      "FILENAMES (3): ['incorrectCode.js', 'test.js', 'corrected-incorrectCode.js']\n",
      "CODE (3): ['function addNumbers(a, b) {\\n  return a - b;\\n}\\n', \"const assert = require('assert');\\nconst addNumbers = require('./incorrectCode');\\n\\ndescribe('addNumbers', function() {\\n  it('should return the sum of two numbers', function() {\\n    assert.equal(addNumbers(2, 3), 5);\\n  });\\n});\\n\", 'function addNumbers(a, b) {\\n  return a + b;\\n}\\n\\nmodule.exports = addNumbers;\\n']\n",
      "----------------------------------------------------------------------------------------------------\n",
      "function addNumbers(a, b) {\n",
      "  return a - b;\n",
      "}\n",
      "\n",
      "----------------------------------------------------------------------------------------------------\n",
      "const assert = require('assert');\n",
      "const addNumbers = require('./incorrectCode');\n",
      "\n",
      "describe('addNumbers', function() {\n",
      "  it('should return the sum of two numbers', function() {\n",
      "    assert.equal(addNumbers(2, 3), 5);\n",
      "  });\n",
      "});\n",
      "\n",
      "----------------------------------------------------------------------------------------------------\n",
      "function addNumbers(a, b) {\n",
      "  return a + b;\n",
      "}\n",
      "\n",
      "module.exports = addNumbers;\n",
      "\n",
      "----------------------------------------------------------------------------------------------------\n",
      "SCRIPT COMPLETE - JSON OUTPUT CREATED.\n"
     ]
    }
   ],
   "source": [
    "!python3 call_gpt_output_json.py 'Node.js' 'web development' 'intermediate'"
   ]
  },
  {
   "cell_type": "code",
   "execution_count": null,
   "metadata": {},
   "outputs": [],
   "source": []
  }
 ],
 "metadata": {
  "kernelspec": {
   "display_name": "Python 3",
   "language": "python",
   "name": "python3"
  },
  "language_info": {
   "codemirror_mode": {
    "name": "ipython",
    "version": 3
   },
   "file_extension": ".py",
   "mimetype": "text/x-python",
   "name": "python",
   "nbconvert_exporter": "python",
   "pygments_lexer": "ipython3",
   "version": "3.10.5"
  },
  "orig_nbformat": 4
 },
 "nbformat": 4,
 "nbformat_minor": 2
}
