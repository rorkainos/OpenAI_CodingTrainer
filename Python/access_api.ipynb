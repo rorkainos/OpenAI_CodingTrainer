{
 "cells": [
  {
   "cell_type": "code",
   "execution_count": 182,
   "metadata": {},
   "outputs": [
    {
     "name": "stdout",
     "output_type": "stream",
     "text": [
      "openai is already installed (version 0.27.8).\n"
     ]
    }
   ],
   "source": [
    "\n",
    "import pkg_resources\n",
    "import subprocess\n",
    "import openai\n",
    "import re\n",
    "import json\n",
    "\n",
    "def install_if_needed(package):\n",
    "    try:\n",
    "        dist = pkg_resources.get_distribution(package)\n",
    "        print(f\"{package} is already installed (version {dist.version}).\")\n",
    "    except pkg_resources.DistributionNotFound:\n",
    "        print(f\"{package} is not installed. Installing...\")\n",
    "        subprocess.call(['pip3', 'install', package])\n",
    "        print(f\"{package} has been installed.\")\n",
    "        \n",
    "install_if_needed('openai')"
   ]
  },
  {
   "attachments": {},
   "cell_type": "markdown",
   "metadata": {},
   "source": [
    "### USEFUL LINKS\n",
    "\n",
    "- https://learn.microsoft.com/en-us/azure/cognitive-services/openai/how-to/chatgpt?pivots=programming-language-chat-completions\n",
    "- https://www.youtube.com/watch?v=uCKH8bmPgFs&t=502s\n",
    "- https://github.com/openai/openai-cookbook"
   ]
  },
  {
   "cell_type": "code",
   "execution_count": 184,
   "metadata": {},
   "outputs": [],
   "source": [
    "openai.api_type = \"azure\"\n",
    "openai.api_version = \"2023-05-15\"\n",
    "\n",
    "#HIDE\n",
    "openai.api_base = \"https://gpt4resource.openai.azure.com/\" # Your Azure OpenAI resource's endpoint value.\n",
    "openai.api_key = \"618bf90290544e54b47bcfc2dba743da\""
   ]
  },
  {
   "cell_type": "code",
   "execution_count": 265,
   "metadata": {},
   "outputs": [],
   "source": [
    "language = 'Node.js'\n",
    "topic = 'web development'\n",
    "difficulty = 'intermediate'"
   ]
  },
  {
   "cell_type": "code",
   "execution_count": 266,
   "metadata": {},
   "outputs": [],
   "source": [
    "system_message = 'Assistant is an intelligent chatbot designed to help users create programming training materials'\n",
    "user_message = f\"\"\"Could you please provide me with incorrect code in {language}, followed by a corresponding unit test that will fail? \n",
    "                        Then provide corrected code that will pass the unit test. \n",
    "                        For each code snippet, provide an appropriate file name. \n",
    "                        The area of interest is {topic}. \n",
    "                        The difficulty should be {difficulty}.\"\"\""
   ]
  },
  {
   "cell_type": "code",
   "execution_count": 267,
   "metadata": {},
   "outputs": [
    {
     "name": "stdout",
     "output_type": "stream",
     "text": [
      "Could you please provide me with incorrect code in Node.js, followed by a corresponding unit test that will fail? \n",
      "                        Then provide corrected code that will pass the unit test. \n",
      "                        For each code snippet, provide an appropriate file name. \n",
      "                        The area of interest is web development. \n",
      "                        The difficulty should be intermediate.\n"
     ]
    }
   ],
   "source": [
    "print(user_message)"
   ]
  },
  {
   "cell_type": "code",
   "execution_count": 268,
   "metadata": {},
   "outputs": [],
   "source": [
    "response = openai.ChatCompletion.create(\n",
    "    #gpt-35-turbo max tokens = 4,096\n",
    "    engine=\"testdeploy\", # The deployment name you chose when you deployed the ChatGPT or GPT-4 model.\n",
    "    messages=[\n",
    "        {\"role\": \"system\", \"content\": system_message},\n",
    "        {\"role\": \"user\", \"content\": user_message}\n",
    "    ],\n",
    "    temperature = 0 # This is the degree of randomness of the model's output\n",
    ")"
   ]
  },
  {
   "cell_type": "code",
   "execution_count": 269,
   "metadata": {},
   "outputs": [
    {
     "name": "stdout",
     "output_type": "stream",
     "text": [
      "tokens:  {\n",
      "  \"completion_tokens\": 264,\n",
      "  \"prompt_tokens\": 93,\n",
      "  \"total_tokens\": 357\n",
      "}\n",
      "----------------------------------------------------------------------------------------------------\n",
      "----------------------------------------------------------------------------------------------------\n",
      "Sure, here's an example:\n",
      "\n",
      "**Incorrect Code:**\n",
      "\n",
      "File Name: `server.js`\n",
      "\n",
      "```javascript\n",
      "const express = require('express');\n",
      "const app = express();\n",
      "\n",
      "app.get('/', (req, res) => {\n",
      "  res.send('Hello World');\n",
      "});\n",
      "\n",
      "app.listen(3000);\n",
      "```\n",
      "\n",
      "**Unit Test:**\n",
      "\n",
      "File Name: `test-server.js`\n",
      "\n",
      "```javascript\n",
      "const request = require('supertest');\n",
      "const app = require('./server');\n",
      "\n",
      "describe('GET /', () => {\n",
      "  it('responds with \"Hello World\"', (done) => {\n",
      "    request(app)\n",
      "      .get('/')\n",
      "      .expect('Hello World')\n",
      "      .end(done);\n",
      "  });\n",
      "});\n",
      "```\n",
      "\n",
      "**Corrected Code:**\n",
      "\n",
      "File Name: `server.js`\n",
      "\n",
      "```javascript\n",
      "const express = require('express');\n",
      "const app = express();\n",
      "\n",
      "app.get('/', (req, res) => {\n",
      "  res.send('Hello World');\n",
      "});\n",
      "\n",
      "const server = app.listen(3000, () => {\n",
      "  console.log(`Server running on port ${server.address().port}`);\n",
      "});\n",
      "\n",
      "module.exports = app;\n",
      "```\n",
      "\n",
      "The corrected code adds a callback function to the `app.listen()` method to log a message to the console when the server starts running. It also exports the `app` object so it can be used in the unit test.\n"
     ]
    }
   ],
   "source": [
    "# print(response)\n",
    "# print(50*'-')\n",
    "\n",
    "content = response['choices'][0]['message']['content']\n",
    "\n",
    "print('tokens: ', response['usage'])\n",
    "print(100*'-')\n",
    "print(100*'-')\n",
    "print(content)"
   ]
  },
  {
   "cell_type": "code",
   "execution_count": 273,
   "metadata": {},
   "outputs": [],
   "source": [
    "def extract_languages(text):\n",
    "    pattern = r\"```(.*)\\n\"\n",
    "    matches = re.findall(pattern, text)\n",
    "    languages = [match for match in matches if match != '']\n",
    "    return languages\n",
    "\n",
    "def extract_filenames(text):\n",
    "    pattern = r\": `(.*)`\\n\"\n",
    "    matches = re.findall(pattern, text)\n",
    "    matches.pop()\n",
    "    matches.append('corrected-' + matches[0].split('.')[0] + '.' + matches[0].split('.')[1])\n",
    "    return matches\n",
    "\n",
    "def remove_before_second_newline(text):\n",
    "    lines = text.split('\\n')\n",
    "    new_text = '\\n'.join(lines[2:])\n",
    "    if new_text[0] == '\\n':\n",
    "        return new_text[1:]\n",
    "    else:\n",
    "        return new_text\n",
    "\n",
    "def extract_code(text):\n",
    "    pattern = r\"```([\\s\\S]*?)```\"\n",
    "    matches = re.findall(pattern, text)\n",
    "    code = []\n",
    "    for match in matches:\n",
    "        code.append(remove_before_second_newline(match))\n",
    "    return code"
   ]
  },
  {
   "cell_type": "code",
   "execution_count": 274,
   "metadata": {},
   "outputs": [],
   "source": [
    "languages = extract_languages(content)\n",
    "filenames = extract_filenames(content)\n",
    "code = extract_code(content)"
   ]
  },
  {
   "cell_type": "code",
   "execution_count": 275,
   "metadata": {},
   "outputs": [
    {
     "data": {
      "text/plain": [
       "['javascript', 'javascript', 'javascript']"
      ]
     },
     "execution_count": 275,
     "metadata": {},
     "output_type": "execute_result"
    }
   ],
   "source": [
    "languages"
   ]
  },
  {
   "cell_type": "code",
   "execution_count": 276,
   "metadata": {},
   "outputs": [
    {
     "data": {
      "text/plain": [
       "['server.js', 'test-server.js', 'corrected-server.js']"
      ]
     },
     "execution_count": 276,
     "metadata": {},
     "output_type": "execute_result"
    }
   ],
   "source": [
    "filenames"
   ]
  },
  {
   "cell_type": "code",
   "execution_count": 277,
   "metadata": {},
   "outputs": [
    {
     "data": {
      "text/plain": [
       "[\"const app = express();\\n\\napp.get('/', (req, res) => {\\n  res.send('Hello World');\\n});\\n\\napp.listen(3000);\\n\",\n",
       " 'const app = require(\\'./server\\');\\n\\ndescribe(\\'GET /\\', () => {\\n  it(\\'responds with \"Hello World\"\\', (done) => {\\n    request(app)\\n      .get(\\'/\\')\\n      .expect(\\'Hello World\\')\\n      .end(done);\\n  });\\n});\\n',\n",
       " \"const app = express();\\n\\napp.get('/', (req, res) => {\\n  res.send('Hello World');\\n});\\n\\nconst server = app.listen(3000, () => {\\n  console.log(`Server running on port ${server.address().port}`);\\n});\\n\\nmodule.exports = app;\\n\"]"
      ]
     },
     "execution_count": 277,
     "metadata": {},
     "output_type": "execute_result"
    }
   ],
   "source": [
    "code"
   ]
  },
  {
   "cell_type": "code",
   "execution_count": 278,
   "metadata": {},
   "outputs": [],
   "source": [
    "data = {\n",
    "    'labels': ['Incorrect code', 'Unit test', 'Corrected code'],\n",
    "    'languages': languages,\n",
    "    'filenames': filenames,\n",
    "    'code': code\n",
    "}\n",
    "\n",
    "json_filename = 'label_lang_file_code.json'\n",
    "with open(json_filename, 'w') as file:\n",
    "    json.dump(data, file)"
   ]
  },
  {
   "cell_type": "code",
   "execution_count": null,
   "metadata": {},
   "outputs": [],
   "source": []
  },
  {
   "cell_type": "code",
   "execution_count": 28,
   "metadata": {},
   "outputs": [],
   "source": [
    "#RUN CELL TO SAVE CONTENT IN A TXT FILE\n",
    "import os\n",
    "\n",
    "folder_path = 'txt_outputs'\n",
    "text_files = [f for f in os.listdir(folder_path) if f.endswith('.txt')]\n",
    "txt_number_list = []\n",
    "for file_name in text_files:\n",
    "    txt_number = file_name[-5]\n",
    "    txt_number = int(txt_number)\n",
    "    txt_number_list.append(txt_number)\n",
    "if not txt_number_list: #check if list is empty, i.e. no txt files yet\n",
    "    new_txt_number = str(1)\n",
    "else:\n",
    "    new_txt_number = str(max(txt_number_list) + 1)\n",
    "text_file = open('txt_outputs/output' + '_' + new_txt_number + '.txt', 'w')\n",
    "text_file.write(system_message + '\\n')\n",
    "text_file.write(50*'-' + '\\n')\n",
    "text_file.write(user_message + '\\n')\n",
    "text_file.write(50*'-' + '\\n')\n",
    "text_file.write(content + '\\n')\n",
    "text_file.close()"
   ]
  }
 ],
 "metadata": {
  "kernelspec": {
   "display_name": "Python 3",
   "language": "python",
   "name": "python3"
  },
  "language_info": {
   "codemirror_mode": {
    "name": "ipython",
    "version": 3
   },
   "file_extension": ".py",
   "mimetype": "text/x-python",
   "name": "python",
   "nbconvert_exporter": "python",
   "pygments_lexer": "ipython3",
   "version": "3.10.5"
  },
  "orig_nbformat": 4
 },
 "nbformat": 4,
 "nbformat_minor": 2
}
